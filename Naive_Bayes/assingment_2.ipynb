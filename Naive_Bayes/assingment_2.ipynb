{
 "cells": [
  {
   "cell_type": "code",
   "execution_count": 1,
   "metadata": {},
   "outputs": [],
   "source": [
    "# importing required libraries, functions\n",
    "\n",
    "import pandas as pd\n",
    "import numpy as np\n",
    "import sklearn\n",
    "from sklearn.preprocessing import LabelEncoder\n",
    "from math import pi, sqrt, exp\n",
    "from pprint import pprint\n",
    "from sklearn.decomposition import PCA\n",
    "import matplotlib.pyplot as plt\n",
    "\n",
    "%matplotlib inline"
   ]
  },
  {
   "cell_type": "code",
   "execution_count": 2,
   "metadata": {},
   "outputs": [],
   "source": [
    "# preprocessing data\n",
    "\n",
    "df = pd.read_csv('Train_F.csv')\n",
    "\n",
    "le = LabelEncoder()\n",
    "df['statename'] = le.fit_transform(df['statename'])\n",
    "df['countyname'] = le.fit_transform(df['countyname'])\n",
    "\n",
    "remove_cols = ['countyfips']\n",
    "df = df.drop(columns=remove_cols)"
   ]
  },
  {
   "cell_type": "code",
   "execution_count": 3,
   "metadata": {},
   "outputs": [],
   "source": [
    "# train test split\n",
    "\n",
    "df_train = df.sample(frac=0.8)\n",
    "df_test = df.drop(df_train.index)\n",
    "df_train = df_train.reset_index(drop=True)\n",
    "df_test = df_test.reset_index(drop=True)"
   ]
  },
  {
   "cell_type": "code",
   "execution_count": 4,
   "metadata": {},
   "outputs": [],
   "source": [
    "# find P(h) for all possible h\n",
    "\n",
    "def get_class_prob(df):\n",
    "    total = df['severity_county_5-day'].size\n",
    "    class_values = df['severity_county_5-day'].value_counts()\n",
    "    class_probs = dict()\n",
    "    for label in df['severity_county_5-day'].unique():\n",
    "        class_probs[label] = class_values[label]/total\n",
    "    return class_probs\n",
    "\n",
    "# separate training data for different h\n",
    "\n",
    "def separate_classes(df):\n",
    "    separate = dict()\n",
    "    for label in df['severity_county_5-day'].unique():\n",
    "        separate[label] = df[df['severity_county_5-day']==label]\n",
    "    return separate\n",
    "\n",
    "# find the probability from given pdf or pmf\n",
    "\n",
    "def calculate_probability(x, typ, pdf=None, pmf=None):\n",
    "    if(typ=='continuous'):\n",
    "        mean = pdf['mean']\n",
    "        stddev = pdf['stddev']\n",
    "        exponent = exp(-0.5 * ((x-mean)/stddev)**2)\n",
    "        return exponent / (sqrt(2*pi)*stddev)\n",
    "    else:\n",
    "        if x not in pmf.keys():\n",
    "            return 1 / (pmf['total']+1)\n",
    "        return pmf[x]\n",
    "    \n",
    "# get the pmf for discrete variable\n",
    "    \n",
    "def get_pmf(df, rows, col):\n",
    "    pmf = dict()\n",
    "    total = rows[col].size+len(df[col].unique())\n",
    "    for val in df[col].unique().tolist():\n",
    "        pmf[val] = (rows[col][rows[col]==val].size+1) / total\n",
    "    pmf['total'] = rows[col].size\n",
    "    \n",
    "    return pmf\n",
    "\n",
    "# define the Naive Bayes model using the training data\n",
    "\n",
    "def get_model(df):\n",
    "    model = dict()\n",
    "    separate = separate_classes(df)\n",
    "    class_prob = get_class_prob(df)\n",
    "    for label, rows in separate.items():\n",
    "        model[label] = dict()\n",
    "        for col in df.columns[:-1]:\n",
    "            model[label][col] = dict()\n",
    "            if(col == 'statename' or col == 'countyname'):\n",
    "                model[label][col] = get_pmf(df, rows, col)\n",
    "            else:\n",
    "                model[label][col]['mean'] = rows[col].mean()\n",
    "                model[label][col]['stddev'] = rows[col].std()\n",
    "        model[label]['prob'] = class_prob[label]\n",
    "        \n",
    "    return model\n",
    "\n",
    "# predict the hypothesis for given test set using Naive Bayes model\n",
    "\n",
    "def predict(model, df_test):\n",
    "    \n",
    "    predictions = []\n",
    "    for index, row in df_test.iterrows():\n",
    "        final_label, max_prob = None, 0\n",
    "        for label in model.keys():\n",
    "            probability = model[label]['prob']\n",
    "            for col in df_test.columns[:-1]:\n",
    "                if(col == 'statename' or col == 'countyname'):\n",
    "                    probability *= calculate_probability(x=row[col], pmf=model[label][col], typ='discrete')\n",
    "                else:\n",
    "                    probability *= calculate_probability(x=row[col], pdf=model[label][col], typ='continuous')\n",
    "            if(probability > max_prob):\n",
    "                max_prob = probability\n",
    "                final_label = label\n",
    "        predictions.append(final_label)\n",
    "    \n",
    "    return predictions\n",
    "\n",
    "# find accuracy of predictions\n",
    "\n",
    "def find_accuracy(df_test, predictions):\n",
    "    return np.sum(df_test['severity_county_5-day'] == predictions)/df_test['severity_county_5-day'].size\n",
    "\n",
    "# perform k fold cross validation using Naive Bayes\n",
    "\n",
    "def k_fold_cross_validation(df_train, k=5):\n",
    "    scores = []\n",
    "    split = np.array_split(df_train, 5)\n",
    "    for i in range(k):\n",
    "        frames = []\n",
    "        for j in range(k):\n",
    "            if(i==j):\n",
    "                continue\n",
    "            frames.append(split[j])\n",
    "        train = pd.concat(frames)\n",
    "        train = train.reset_index(drop=True)\n",
    "        test = split[i].reset_index(drop=True)\n",
    "        model = get_model(train)\n",
    "        predictions = predict(model, test)\n",
    "        scores.append(find_accuracy(test, predictions))\n",
    "    return scores, np.mean(scores)\n",
    "\n",
    "# get the PCA object for performing transform on training and testing data\n",
    "\n",
    "def pca_transform(df):\n",
    "    df_data = df.drop(columns=['severity_county_5-day'])\n",
    "    pca = PCA()\n",
    "    pca.fit(df_data)\n",
    "    variance_cumsum = np.cumsum(pca.explained_variance_ratio_)\n",
    "    fig = plt.figure()\n",
    "    ax = fig.add_axes([0,0,1,1])\n",
    "    ax.bar(x = range(len(pca.explained_variance_ratio_)), height = pca.explained_variance_ratio_)\n",
    "    ax.set_xlabel('PCA Components')\n",
    "    ax.set_ylabel('Explained Variance Ratio')\n",
    "    plt.show()\n",
    "    pca = PCA(n_components=2)\n",
    "    pca.fit(df_data)\n",
    "    return pca\n",
    "\n",
    "# transform the training and test data\n",
    "\n",
    "def transform(df_train, df_test):\n",
    "    pca = pca_transform(df_train)\n",
    "    df_train_data = df_train.drop(columns=['severity_county_5-day'])\n",
    "    df_train_transform = pd.DataFrame(data=pca.transform(df_train_data), columns=['PCA%i'%i for i in range(pca.n_components_)])\n",
    "    df_train_transform['severity_county_5-day'] = df_train['severity_county_5-day']\n",
    "    df_test_data = df_test.drop(columns=['severity_county_5-day'])\n",
    "    df_test_transform = pd.DataFrame(data=pca.transform(df_test_data), columns=['PCA%i'%i for i in range(pca.n_components_)])\n",
    "    df_test_transform['severity_county_5-day'] = df_test['severity_county_5-day']\n",
    "    return df_train_transform, df_test_transform\n",
    "\n",
    "# remove the outliers from training data\n",
    "\n",
    "def remove_outliers(df):\n",
    "    key_mean_std = dict()\n",
    "    for col in df.columns[:-1]:\n",
    "        key_mean_std[col] = dict()\n",
    "        key_mean_std[col]['mean'] = df[col].mean()\n",
    "        key_mean_std[col]['stddev'] = df[col].std()\n",
    "    \n",
    "    outliers_dict = dict()\n",
    "    max_outliers = 0\n",
    "    for x in range(len(df.columns[:-1])+1):\n",
    "        outliers_dict[x] = []\n",
    "    for index, row in df.iterrows():\n",
    "        outliers = 0\n",
    "        for col in df.columns[:-1]:\n",
    "            if((row[col] < key_mean_std[col]['mean'] - 3 * key_mean_std[col]['stddev']) or (row[col] > key_mean_std[col]['mean'] + 3 * key_mean_std[col]['stddev'])):\n",
    "                outliers += 1\n",
    "        outliers_dict[outliers].append(index)\n",
    "        if(outliers > max_outliers):\n",
    "            max_outliers = outliers\n",
    "            \n",
    "    return df.drop(index = outliers_dict[max_outliers]).reset_index(drop=True)\n",
    "\n",
    "# perform sequential backward selection using Naive Bayes\n",
    "\n",
    "def seq_backward_selection(df_train, df_val):\n",
    "    columns = df_train.columns[:-1]\n",
    "    model = get_model(df_train)\n",
    "    predictions = predict(model, df_val)\n",
    "    orig_acc = find_accuracy(df_val, predictions)\n",
    "    max_acc = 0\n",
    "    remove_cols = []\n",
    "    col_t = None\n",
    "    for col in columns:\n",
    "        df_t = df_train.drop(columns=[col])\n",
    "        model = get_model(df_t)\n",
    "        predictions = predict(model, df_val.drop(columns=[col]))\n",
    "        acc_t = find_accuracy(df_val.drop(columns=[col]), predictions)\n",
    "        if(acc_t > max_acc):\n",
    "            max_acc = acc_t\n",
    "            col_t = col\n",
    "        \n",
    "    if(max_acc > orig_acc):\n",
    "        remove_cols.append(col_t)\n",
    "        remove_cols.extend(seq_backward_selection(df_train.drop(columns=remove_cols), df_val.drop(columns=remove_cols)))\n",
    "    return remove_cols"
   ]
  },
  {
   "cell_type": "code",
   "execution_count": 5,
   "metadata": {},
   "outputs": [
    {
     "name": "stdout",
     "output_type": "stream",
     "text": [
      "[0.4552683896620278, 0.44731610337972166, 0.43141153081510936, 0.49502982107355864, 0.43824701195219123] 0.45345457137652173\n"
     ]
    }
   ],
   "source": [
    "# perform k fold CV for Naive Bayes on preprocessed data\n",
    "\n",
    "scores, avg = k_fold_cross_validation(df_train)\n",
    "print(scores, avg)"
   ]
  },
  {
   "cell_type": "code",
   "execution_count": 6,
   "metadata": {},
   "outputs": [
    {
     "data": {
      "text/plain": [
       "0.4426751592356688"
      ]
     },
     "execution_count": 6,
     "metadata": {},
     "output_type": "execute_result"
    }
   ],
   "source": [
    "# final testing accuracy\n",
    "\n",
    "model = get_model(df_train)\n",
    "predictions = predict(model, df_test)\n",
    "find_accuracy(df_test, predictions)"
   ]
  },
  {
   "cell_type": "code",
   "execution_count": 7,
   "metadata": {},
   "outputs": [
    {
     "data": {
      "image/png": "[encoded data removed]",
      "text/plain": [
       "<Figure size 432x288 with 1 Axes>"
      ]
     },
     "metadata": {
      "needs_background": "light"
     },
     "output_type": "display_data"
    }
   ],
   "source": [
    "# transform training and testing data\n",
    "\n",
    "df_train_pca, df_test_pca = transform(df_train, df_test)"
   ]
  },
  {
   "cell_type": "code",
   "execution_count": 8,
   "metadata": {},
   "outputs": [
    {
     "data": {
      "text/plain": [
       "Text(0, 0.5, 'PCA1')"
      ]
     },
     "execution_count": 8,
     "metadata": {},
     "output_type": "execute_result"
    },
    {
     "data": {
      "image/png": "[encoded data removed]",
      "text/plain": [
       "<Figure size 432x288 with 1 Axes>"
      ]
     },
     "metadata": {
      "needs_background": "light"
     },
     "output_type": "display_data"
    }
   ],
   "source": [
    "# PCA applied data for label = 1\n",
    "\n",
    "plt.scatter(x = df_train_pca['PCA0'][df_train_pca['severity_county_5-day']==1], y = df_train_pca['PCA1'][df_train_pca['severity_county_5-day']==1], c='r', marker='x')\n",
    "plt.title('severity_county_5-day = 1')\n",
    "plt.xlabel('PCA0')\n",
    "plt.ylabel('PCA1')"
   ]
  },
  {
   "cell_type": "code",
   "execution_count": 9,
   "metadata": {},
   "outputs": [
    {
     "data": {
      "text/plain": [
       "Text(0, 0.5, 'PCA1')"
      ]
     },
     "execution_count": 9,
     "metadata": {},
     "output_type": "execute_result"
    },
    {
     "data": {
      "image/png": "[encoded data removed]",
      "text/plain": [
       "<Figure size 432x288 with 1 Axes>"
      ]
     },
     "metadata": {
      "needs_background": "light"
     },
     "output_type": "display_data"
    }
   ],
   "source": [
    "# PCA applied data for label = 2\n",
    "\n",
    "plt.scatter(x = df_train_pca['PCA0'][df_train_pca['severity_county_5-day']==2], y = df_train_pca['PCA1'][df_train_pca['severity_county_5-day']==2], c='g', marker='1')\n",
    "plt.title('severity_county_5-day = 2')\n",
    "plt.xlabel('PCA0')\n",
    "plt.ylabel('PCA1')"
   ]
  },
  {
   "cell_type": "code",
   "execution_count": 10,
   "metadata": {},
   "outputs": [
    {
     "data": {
      "text/plain": [
       "Text(0, 0.5, 'PCA1')"
      ]
     },
     "execution_count": 10,
     "metadata": {},
     "output_type": "execute_result"
    },
    {
     "data": {
      "image/png": "[encoded data removed]",
      "text/plain": [
       "<Figure size 432x288 with 1 Axes>"
      ]
     },
     "metadata": {
      "needs_background": "light"
     },
     "output_type": "display_data"
    }
   ],
   "source": [
    "# PCA applied data for label = 3\n",
    "\n",
    "plt.scatter(x = df_train_pca['PCA0'][df_train_pca['severity_county_5-day']==3], y = df_train_pca['PCA1'][df_train_pca['severity_county_5-day']==3], c='b', marker='2')\n",
    "plt.title('severity_county_5-day = 3')\n",
    "plt.xlabel('PCA0')\n",
    "plt.ylabel('PCA1')"
   ]
  },
  {
   "cell_type": "code",
   "execution_count": 11,
   "metadata": {},
   "outputs": [
    {
     "name": "stdout",
     "output_type": "stream",
     "text": [
      "[0.46123260437375746, 0.4532803180914513, 0.4294234592445328, 0.49502982107355864, 0.4402390438247012] 0.45584104932160024\n"
     ]
    }
   ],
   "source": [
    "# perform k fold CV for Naive Bayes on data after applying PCA\n",
    "\n",
    "scores, avg = k_fold_cross_validation(df_train_pca)\n",
    "print(scores, avg)"
   ]
  },
  {
   "cell_type": "code",
   "execution_count": 12,
   "metadata": {},
   "outputs": [
    {
     "name": "stdout",
     "output_type": "stream",
     "text": [
      "0.4426751592356688\n"
     ]
    }
   ],
   "source": [
    "# final test accuracy on PCA applied data\n",
    "\n",
    "model = get_model(df_train_pca)\n",
    "predictions = predict(model, df_test_pca)\n",
    "print(find_accuracy(df_test_pca, predictions))"
   ]
  },
  {
   "cell_type": "code",
   "execution_count": 13,
   "metadata": {},
   "outputs": [
    {
     "name": "stdout",
     "output_type": "stream",
     "text": [
      "Index(['predicted_deaths_by_october_06', 'predicted_deaths_by_october_07',\n",
      "       'predicted_deaths_by_october_08', 'predicted_deaths_by_october_09',\n",
      "       'predicted_deaths_by_october_10', 'predicted_deaths_by_october_11',\n",
      "       'predicted_deaths_by_october_12'],\n",
      "      dtype='object')\n"
     ]
    }
   ],
   "source": [
    "# remove outliers, perform sequential backward selection on train and test data\n",
    "\n",
    "df_train_drop = remove_outliers(df_train)\n",
    "remove_cols = seq_backward_selection(df_train_drop, df_test)\n",
    "df_train_sbs = df_train_drop.drop(columns=remove_cols)\n",
    "df_test_sbs = df_test.drop(columns=remove_cols)\n",
    "print(df_train_sbs.columns[:-1])"
   ]
  },
  {
   "cell_type": "code",
   "execution_count": 14,
   "metadata": {},
   "outputs": [
    {
     "name": "stdout",
     "output_type": "stream",
     "text": [
      "[0.45582329317269077, 0.45582329317269077, 0.4245472837022133, 0.5030181086519114, 0.4507042253521127] 0.4579832408103238\n"
     ]
    }
   ],
   "source": [
    "# perform k fold CV for Naive Bayes on data after applying sequential backward selection\n",
    "\n",
    "scores, avg = k_fold_cross_validation(df_train_sbs)\n",
    "print(scores, avg)"
   ]
  },
  {
   "cell_type": "code",
   "execution_count": 15,
   "metadata": {},
   "outputs": [
    {
     "name": "stdout",
     "output_type": "stream",
     "text": [
      "0.445859872611465\n"
     ]
    }
   ],
   "source": [
    "# final test accuracy on sequential backward selection applied data\n",
    "\n",
    "model = get_model(df_train_sbs)\n",
    "predictions = predict(model, df_test_sbs)\n",
    "print(find_accuracy(df_test_sbs, predictions))"
   ]
  },
  {
   "cell_type": "code",
   "execution_count": null,
   "metadata": {},
   "outputs": [],
   "source": []
  }
 ],
 "metadata": {
  "kernelspec": {
   "display_name": "3.8",
   "language": "python",
   "name": "3.8"
  },
  "language_info": {
   "codemirror_mode": {
    "name": "ipython",
    "version": 3
   },
   "file_extension": ".py",
   "mimetype": "text/x-python",
   "name": "python",
   "nbconvert_exporter": "python",
   "pygments_lexer": "ipython3",
   "version": "3.8.3"
  }
 },
 "nbformat": 4,
 "nbformat_minor": 4
}
